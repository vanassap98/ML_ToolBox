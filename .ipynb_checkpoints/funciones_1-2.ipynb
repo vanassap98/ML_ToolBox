{
 "cells": [
  {
   "cell_type": "code",
   "execution_count": 3,
   "id": "fe6ec5c6",
   "metadata": {},
   "outputs": [],
   "source": [
    "# Imports\n",
    "import pandas as pd"
   ]
  },
  {
   "cell_type": "code",
   "execution_count": 5,
   "id": "ccee69ff",
   "metadata": {},
   "outputs": [],
   "source": [
    "# cargo un df para pruebas\n",
    "\n",
    "df_pruebas = pd.read_csv(\"C:\\\\Users\\\\hugof\\\\Documents\\\\00_cursoTheBridge\\\\desktop\\\\DS_Online_Febr25_Exercises\\\\04_Machine_Learning\\\\Sprint_09\\\\Team_Challenge\\\\data\\\\titanic.csv\")\n"
   ]
  },
  {
   "cell_type": "code",
   "execution_count": 2,
   "id": "389f4694",
   "metadata": {},
   "outputs": [],
   "source": [
    "# Función describe_df\n",
    "\n",
    "def describe_df(df: pd.DataFrame):\n",
    "    \"\"\"\n",
    "    Esta función recibe un dataframe, coge sus columnas y sustituye las filas por información relativa al dataframe de entrada.\n",
    "\n",
    "    Argumentos:\n",
    "    df: cualquier dataframe.\n",
    "\n",
    "    Retorna:\n",
    "    DataFrame: retorna un nuevo Dataframe que refleja el DataType, Missings (%), unique_values y cardinalidad (%) por columna del DataFrame de entrada.\n",
    "    \"\"\"\n",
    "    \n",
    "    data_tipo = df.dtypes.astype(str)\n",
    "    nulos = df.isnull().mean() * 100\n",
    "    unicos = df.nunique()\n",
    "    cardinalidad = (unicos/len(df)) * 100\n",
    "\n",
    "    rows = {'DATA_TYPE': data_tipo,'MISSINGS (%)':nulos, 'UNIQUE_VALUES': unicos, 'CARDIN (%)': cardinalidad}\n",
    "\n",
    "    return_df = pd.DataFrame(rows)\n",
    "    return_df = return_df.T\n",
    "\n",
    "    return return_df"
   ]
  },
  {
   "cell_type": "code",
   "execution_count": 6,
   "id": "c230171e",
   "metadata": {},
   "outputs": [
    {
     "name": "stdout",
     "output_type": "stream",
     "text": [
      "                    sex       age     sibsp     parch       fare   class  \\\n",
      "DATA_TYPE        object   float64     int64     int64    float64  object   \n",
      "MISSINGS (%)        0.0       0.0       0.0       0.0        0.0     0.0   \n",
      "UNIQUE_VALUES         2        89         7         7        248       3   \n",
      "CARDIN (%)     0.224467  9.988777  0.785634  0.785634  27.833895  0.3367   \n",
      "\n",
      "                  who adult_male embark_town     alive     alone  \n",
      "DATA_TYPE      object       bool      object    object      bool  \n",
      "MISSINGS (%)      0.0        0.0         0.0       0.0       0.0  \n",
      "UNIQUE_VALUES       3          2           3         2         2  \n",
      "CARDIN (%)     0.3367   0.224467      0.3367  0.224467  0.224467  \n"
     ]
    }
   ],
   "source": [
    "\n",
    "# prueba describe_df\n",
    "\n",
    "print(describe_df(df_pruebas))"
   ]
  },
  {
   "cell_type": "code",
   "execution_count": 7,
   "id": "513d5e5a",
   "metadata": {},
   "outputs": [],
   "source": [
    "# Función tipifica_variables\n",
    "\n",
    "def tipifica_variables(df: pd.DataFrame, umbral_categoria: int, umbral_continua: float):\n",
    "    \"\"\"\n",
    "    Recibe un DataFrame y parámetros para tipificar las columnas\n",
    "\n",
    "    Argumentos:\n",
    "    df: cualquier dataframe.\n",
    "    umbral_categoria: marca el límite a partir el cual se va a considerar una variable categorica.\n",
    "    umbral_continua: marca el límite a partir el cual se va a diferenciar entre numérica continua o discreta,\n",
    "\n",
    "    Retorna:\n",
    "    DataFrame: un dataframe nuevo, donde las columnas del de entrada se convierten en filas y cada columna refleja el tipo de la variable.\n",
    "    \"\"\"\n",
    "    \n",
    "    filas = []\n",
    "    tipos = []\n",
    "\n",
    "    for col in df:\n",
    "        n_unique = df[col].nunique()\n",
    "        cardinalidad_porcentaje = (n_unique / len(df)) * 100\n",
    "\n",
    "        if n_unique == 2:\n",
    "            tipo = 'Binaria'\n",
    "\n",
    "        elif n_unique < umbral_categoria:\n",
    "            tipo = 'Categorica'\n",
    "\n",
    "        else:\n",
    "\n",
    "            if cardinalidad_porcentaje >= umbral_continua:\n",
    "                tipo = 'Numérica Continua'\n",
    "            else:\n",
    "                tipo = 'Numérica Discreta'\n",
    "\n",
    "        filas.append(col)\n",
    "        tipos.append(tipo)\n",
    "\n",
    "    return_df = pd.DataFrame({\n",
    "        'nombre_variable': filas,\n",
    "        'tipo_sugerido': tipos\n",
    "    })\n",
    "\n",
    "    return return_df"
   ]
  },
  {
   "cell_type": "code",
   "execution_count": 8,
   "id": "0fbc0908",
   "metadata": {},
   "outputs": [
    {
     "name": "stdout",
     "output_type": "stream",
     "text": [
      "   nombre_variable      tipo_sugerido\n",
      "0              sex            Binaria\n",
      "1              age  Numérica Continua\n",
      "2            sibsp  Numérica Discreta\n",
      "3            parch  Numérica Discreta\n",
      "4             fare  Numérica Continua\n",
      "5            class  Numérica Discreta\n",
      "6              who  Numérica Discreta\n",
      "7       adult_male            Binaria\n",
      "8      embark_town  Numérica Discreta\n",
      "9            alive            Binaria\n",
      "10           alone            Binaria\n"
     ]
    }
   ],
   "source": [
    "# prueba tipifica_variables\n",
    "\n",
    "print(tipifica_variables(df_pruebas, 3, 4))"
   ]
  },
  {
   "cell_type": "code",
   "execution_count": null,
   "id": "68364a86",
   "metadata": {},
   "outputs": [],
   "source": []
  }
 ],
 "metadata": {
  "kernelspec": {
   "display_name": "Python 3",
   "language": "python",
   "name": "python3"
  },
  "language_info": {
   "codemirror_mode": {
    "name": "ipython",
    "version": 3
   },
   "file_extension": ".py",
   "mimetype": "text/x-python",
   "name": "python",
   "nbconvert_exporter": "python",
   "pygments_lexer": "ipython3",
   "version": "3.10.11"
  }
 },
 "nbformat": 4,
 "nbformat_minor": 5
}
